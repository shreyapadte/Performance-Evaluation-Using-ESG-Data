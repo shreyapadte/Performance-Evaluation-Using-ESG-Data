{
  "nbformat": 4,
  "nbformat_minor": 0,
  "metadata": {
    "colab": {
      "provenance": []
    },
    "kernelspec": {
      "name": "python3",
      "display_name": "Python 3"
    },
    "language_info": {
      "name": "python"
    }
  },
  "cells": [
    {
      "cell_type": "code",
      "source": [
        "import pandas as pd\n",
        "import yfinance as yf\n",
        "\n",
        "# Import financial data for stocks\n",
        "tickers = ['AAPL', 'MSFT', 'TSLA', 'GOOGL']\n",
        "data = yf.download(tickers, start=\"2020-01-01\", end=\"2023-01-01\")['Adj Close']\n",
        "\n",
        "# Fetch ESG data from Yahoo Finance\n",
        "esg_scores = {}\n",
        "for ticker in tickers:\n",
        "    stock = yf.Ticker(ticker)\n",
        "    try:\n",
        "        # Fetch the total ESG score if available\n",
        "        esg_scores[ticker] = stock.sustainability.loc['totalEsgScore'].values[0]\n",
        "    except:\n",
        "        # Handle cases where ESG data isn't available\n",
        "        esg_scores[ticker] = None\n",
        "\n",
        "# Convert to DataFrame\n",
        "esg_data = pd.DataFrame(list(esg_scores.items()), columns=['ticker', 'esg_score'])\n",
        "\n",
        "# Remove rows with missing ESG scores\n",
        "esg_data.dropna(inplace=True)\n",
        "\n",
        "# Calculate daily returns\n",
        "returns = data.pct_change()\n",
        "\n",
        "# Calculate annualized volatility (risk)\n",
        "annualized_volatility = returns.std() * (252 ** 0.5)\n",
        "\n",
        "# Construct decarbonized portfolio (ESG ranking)\n",
        "esg_data['esg_rank'] = esg_data['esg_score'].rank()\n",
        "low_carbon_stocks = esg_data[esg_data['esg_rank'] < esg_data['esg_rank'].median()]\n",
        "low_carbon_portfolio_tickers = low_carbon_stocks['ticker'].tolist()\n",
        "\n",
        "# Filter the financial data to only include stocks with ESG scores\n",
        "filtered_data = data[low_carbon_portfolio_tickers]\n",
        "\n",
        "# Calculate portfolio returns and Sharpe ratio\n",
        "if not filtered_data.empty:\n",
        "    portfolio_returns = filtered_data.pct_change().mean() * 252\n",
        "    portfolio_volatility = filtered_data.pct_change().std() * (252 ** 0.5)\n",
        "\n",
        "    # Calculate Sharpe ratio\n",
        "    risk_free_rate = 0.01  # Example risk-free rate\n",
        "    sharpe_ratio = (portfolio_returns - risk_free_rate) / portfolio_volatility\n",
        "    print(\"Portfolio Sharpe Ratio:\", sharpe_ratio)\n",
        "else:\n",
        "    print(\"No valid data for portfolio returns.\")\n",
        "\n",
        "# Handle missing ESG scores\n",
        "if not esg_data['esg_score'].isna().all():\n",
        "    portfolio_esg_score = esg_data[esg_data['ticker'].isin(low_carbon_portfolio_tickers)]['esg_score'].mean()\n",
        "    print(\"Portfolio ESG Score:\", portfolio_esg_score)\n",
        "else:\n",
        "    print(\"No valid ESG scores for portfolio.\")\n"
      ],
      "metadata": {
        "id": "SSVe6pF8sQei",
        "outputId": "efc269b1-a3c9-4aa7-c4b8-d4bba920c7bc",
        "colab": {
          "base_uri": "https://localhost:8080/"
        }
      },
      "execution_count": 5,
      "outputs": [
        {
          "output_type": "stream",
          "name": "stderr",
          "text": [
            "[*********************100%***********************]  4 of 4 completed\n"
          ]
        },
        {
          "output_type": "stream",
          "name": "stdout",
          "text": [
            "No valid data for portfolio returns.\n",
            "No valid ESG scores for portfolio.\n"
          ]
        }
      ]
    }
  ]
}